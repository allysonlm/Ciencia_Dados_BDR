{
 "cells": [
  {
   "cell_type": "markdown",
   "metadata": {},
   "source": [
    "**Autor:** Allyson de Lima Medeiros   \n",
    "**Data:** 18-12-2018"
   ]
  },
  {
   "cell_type": "markdown",
   "metadata": {},
   "source": [
    "## Menu\n",
    "\n",
    "[Carga nos dados](#carga)\n",
    "\n",
    "[Limpeza nos dados](#limpeza)\n",
    "\n",
    "[Vizualização](#viz)\n",
    "\n",
    "[Modelos](#model)"
   ]
  },
  {
   "cell_type": "markdown",
   "metadata": {},
   "source": [
    " "
   ]
  },
  {
   "cell_type": "markdown",
   "metadata": {},
   "source": [
    "<a id='carga'></a>\n",
    "\n",
    "# Regras de negócio\n",
    "\n",
    "O objetivo do teste é entender como você pensa e como será sua execução no dia.  \n",
    "\n",
    "\n",
    "Prova Realizada em : estado onde a pessoa realizou a prova     \n",
    "Dia da Prova Realizada : data da prova   \n",
    "Nota : nota de 0 a 10 da prova   \n",
    "Nota da Redação : nota de 0 a 2,5   \n",
    "Horário da Prova : período de realização da prova   \n",
    "Estado civil : estado civil do aluno   \n",
    "Escolaridade : escolaridade máxima do aluno   \n",
    "Cidade de nascimento : cidade de nascimento do aluno   \n",
    "Bairro onde reside : bairro de residência do aluno   \n",
    "\n",
    "A para um aluno ser aprovado na disciplina ele deve tirar, no mínimo, 5 na nota da prova. A nota da redação como nota de desempate (entre dois alunos que tiveram nota 5 na prova, o aluno que tiver maior nota na redação tem desempenho melhor). Caso o aluno tire 0 na redação ele é reprovado automaticamente. Os alunos são divididos por estado.   \n",
    "\n",
    "A partir destes dados, responda as seguintes perguntas:   \n",
    "1) O time de marketing precisa saber qual é o público-alvo ideal para essa instituição de ensino. Quais as caraterísticas principais desse público? (DICA: O público ideal é o público de perfil ‘vencedor’ nas provas)   \n",
    "2) O time de monitoria de educação precisa tomar ações preventivas para evitar que alunos reprovem na matéria. Como você pode indicar quais são os alunos que necessitam de mais ajuda? (DICA: Existem alguma forma de prever o desempenho desses alunos?)   \n",
    "3) Seja criativo! Qual outro insight ou informação você consegue extrair desses dados? Descreva uma forma que alguém poderia utilizar essa informação. (DICA: Lembre que toda análise deve trazer uma informação que pode ser transformada em ação ou servir de tomada de decisão.)\n"
   ]
  },
  {
   "cell_type": "markdown",
   "metadata": {},
   "source": [
    "  "
   ]
  },
  {
   "cell_type": "markdown",
   "metadata": {},
   "source": [
    "# Carga nos dados\n",
    "\n",
    "Foi criado um banco de dados na nuvem Amazon Relational Database Service(RDS) com o PostgresSQL 10.    \n",
    "\n",
    "Esse banco conta com a infraestrutura da Amazon de disponibilidade e tolerância a falhas propiciando um ambiente seguro para futuras extrações.\n",
    "\n",
    "Pode-se pular diretamente para a análise exploratória com o menu acima.    \n",
    "\n",
    "A inserção poderá ser um pouco lenta pois foi utilizado um cluster gratuito do RDS."
   ]
  },
  {
   "cell_type": "code",
   "execution_count": 1,
   "metadata": {},
   "outputs": [
    {
     "name": "stdout",
     "output_type": "stream",
     "text": [
      "Requirement already satisfied: psycopg2 in /home/deep/anaconda3/lib/python3.6/site-packages (2.7.6.1)\n",
      "Requirement already satisfied: pandas in /home/deep/anaconda3/lib/python3.6/site-packages (0.23.0)\n",
      "Requirement already satisfied: python-dateutil>=2.5.0 in /home/deep/anaconda3/lib/python3.6/site-packages (from pandas) (2.7.3)\n",
      "Requirement already satisfied: pytz>=2011k in /home/deep/anaconda3/lib/python3.6/site-packages (from pandas) (2018.4)\n",
      "Requirement already satisfied: numpy>=1.9.0 in /home/deep/anaconda3/lib/python3.6/site-packages (from pandas) (1.14.3)\n",
      "Requirement already satisfied: six>=1.5 in /home/deep/anaconda3/lib/python3.6/site-packages (from python-dateutil>=2.5.0->pandas) (1.11.0)\n",
      "Requirement already satisfied: sklearn in /home/deep/anaconda3/lib/python3.6/site-packages (0.0)\n",
      "Requirement already satisfied: scikit-learn in /home/deep/anaconda3/lib/python3.6/site-packages (from sklearn) (0.19.1)\n",
      "Requirement already satisfied: mlxtend in /home/deep/anaconda3/lib/python3.6/site-packages (0.14.0)\n",
      "Requirement already satisfied: pandas>=0.17.1 in /home/deep/anaconda3/lib/python3.6/site-packages (from mlxtend) (0.23.0)\n",
      "Requirement already satisfied: scipy>=0.17 in /home/deep/anaconda3/lib/python3.6/site-packages (from mlxtend) (1.1.0)\n",
      "Requirement already satisfied: numpy>=1.10.4 in /home/deep/anaconda3/lib/python3.6/site-packages (from mlxtend) (1.14.3)\n",
      "Requirement already satisfied: scikit-learn>=0.18 in /home/deep/anaconda3/lib/python3.6/site-packages (from mlxtend) (0.19.1)\n",
      "Requirement already satisfied: setuptools in /home/deep/anaconda3/lib/python3.6/site-packages (from mlxtend) (39.1.0)\n",
      "Requirement already satisfied: matplotlib>=1.5.1 in /home/deep/anaconda3/lib/python3.6/site-packages (from mlxtend) (2.2.3)\n",
      "Requirement already satisfied: python-dateutil>=2.5.0 in /home/deep/anaconda3/lib/python3.6/site-packages (from pandas>=0.17.1->mlxtend) (2.7.3)\n",
      "Requirement already satisfied: pytz>=2011k in /home/deep/anaconda3/lib/python3.6/site-packages (from pandas>=0.17.1->mlxtend) (2018.4)\n",
      "Requirement already satisfied: cycler>=0.10 in /home/deep/anaconda3/lib/python3.6/site-packages (from matplotlib>=1.5.1->mlxtend) (0.10.0)\n",
      "Requirement already satisfied: pyparsing!=2.0.4,!=2.1.2,!=2.1.6,>=2.0.1 in /home/deep/anaconda3/lib/python3.6/site-packages (from matplotlib>=1.5.1->mlxtend) (2.2.0)\n",
      "Requirement already satisfied: six>=1.10 in /home/deep/anaconda3/lib/python3.6/site-packages (from matplotlib>=1.5.1->mlxtend) (1.11.0)\n",
      "Requirement already satisfied: kiwisolver>=1.0.1 in /home/deep/anaconda3/lib/python3.6/site-packages (from matplotlib>=1.5.1->mlxtend) (1.0.1)\n",
      "Requirement already satisfied: fuzzywuzzy in /home/deep/anaconda3/lib/python3.6/site-packages (0.17.0)\n"
     ]
    }
   ],
   "source": [
    "# Instalando dependências\n",
    "\n",
    "!pip install psycopg2\n",
    "!pip install pandas\n",
    "!pip install sklearn\n",
    "!pip install mlxtend\n",
    "!pip install fuzzywuzzy"
   ]
  },
  {
   "cell_type": "code",
   "execution_count": 2,
   "metadata": {},
   "outputs": [
    {
     "name": "stderr",
     "output_type": "stream",
     "text": [
      "/home/deep/anaconda3/lib/python3.6/site-packages/psycopg2/__init__.py:144: UserWarning: The psycopg2 wheel package will be renamed from release 2.8; in order to keep installing from binary please use \"pip install psycopg2-binary\" instead. For details see: <http://initd.org/psycopg/docs/install.html#binary-install-from-pypi>.\n",
      "  \"\"\")\n"
     ]
    }
   ],
   "source": [
    "#Importando dependências\n",
    "\n",
    "import psycopg2\n",
    "import csv"
   ]
  },
  {
   "cell_type": "code",
   "execution_count": 3,
   "metadata": {},
   "outputs": [],
   "source": [
    "# Dados de conexão com o bd da AWS\n",
    "host = \"host=bdrinstance.cba0aotts6j4.us-east-2.rds.amazonaws.com\"\n",
    "dbname = \"dbname=bdrdb\"\n",
    "user = \"user=bdradmin\"\n",
    "passw = \"password=12345678\"\n",
    "str_conn = host + ' ' + dbname + ' ' + user + ' ' + passw"
   ]
  },
  {
   "cell_type": "code",
   "execution_count": 4,
   "metadata": {},
   "outputs": [],
   "source": [
    "# Drop da tabela caso queira recriá-la\n",
    "\n",
    "#conn = psycopg2.connect(str_conn)\n",
    "#cur = conn.cursor()\n",
    "#cur.execute(\"DROP TABLE fato_ead_desempenho\")\n",
    "#conn.commit()\n"
   ]
  },
  {
   "cell_type": "code",
   "execution_count": 5,
   "metadata": {},
   "outputs": [],
   "source": [
    "# Criação da tabela fato na nuvem AWS - RDS com PostgreSQL\n",
    "# O banco de dados está com segurança pública para acesso\n",
    "# Os dados serão inputados como text para posterior tratamento com o dataframe\n",
    "\n",
    "#conn = psycopg2.connect(str_conn)\n",
    "#cur = conn.cursor()\n",
    "#cur.execute(\n",
    "#    \"\"\"\n",
    "#    CREATE TABLE fato_ead_desempenho (\n",
    "#        id text PRIMARY KEY,\n",
    "#        prova_realizada_em text,\n",
    "#        dia_da_prova_realizada text,\n",
    "#        nota text,\n",
    "#        nota_redacao text,\n",
    "#        horario_da_prova text,\n",
    "#        sexo text,\n",
    "#        estado_civil text,\n",
    "#        escolaridade text,\n",
    "#        cidade_de_nascimento text,\n",
    "#        bairro text\n",
    "#    )\n",
    "#    \"\"\"\n",
    "#)\n",
    "#conn.commit()\n"
   ]
  },
  {
   "cell_type": "code",
   "execution_count": 6,
   "metadata": {},
   "outputs": [],
   "source": [
    "# Inserção dos dados do CSV para o banco de dados na nuvem\n",
    "\n",
    "#conn = psycopg2.connect(str_conn)\n",
    "#cur = conn.cursor()\n",
    "#with open('data/DOT_teste_data_science.csv', 'r', encoding = \"ISO-8859-1\") as f:\n",
    "#    reader = csv.reader(f)\n",
    "#    next(reader)  # Skip the header row.\n",
    "#    for row in reader:\n",
    "#        cur.execute(\n",
    "#            \"INSERT INTO fato_ead_desempenho VALUES (%s, %s, %s, %s, %s, %s, %s, %s, %s, %s, %s)\",\n",
    "#            row\n",
    "#        )         \n",
    "#conn.commit()\n"
   ]
  },
  {
   "cell_type": "markdown",
   "metadata": {},
   "source": [
    "Será criado uma tabela dimensão com os municípios do Brasil retirado do site do IBGE para tratamento das cidades e coleta dos estados"
   ]
  },
  {
   "cell_type": "code",
   "execution_count": 7,
   "metadata": {},
   "outputs": [],
   "source": [
    "# Drop da tabela dim_municipio\n",
    "\n",
    "#conn = psycopg2.connect(str_conn)\n",
    "#cur = conn.cursor()\n",
    "#cur.execute(\"DROP TABLE dim_municipio\")\n",
    "#conn.commit()"
   ]
  },
  {
   "cell_type": "code",
   "execution_count": 8,
   "metadata": {},
   "outputs": [],
   "source": [
    "#conn = psycopg2.connect(str_conn)\n",
    "#cur = conn.cursor()\n",
    "#cur.execute(\n",
    "#    \"\"\"\n",
    "#    CREATE TABLE dim_municipio (\n",
    "#        uf text,\n",
    "#        municipio text\n",
    "#      \n",
    "#    )\n",
    "#    \"\"\"\n",
    "#)\n",
    "#conn.commit()"
   ]
  },
  {
   "cell_type": "code",
   "execution_count": 9,
   "metadata": {},
   "outputs": [],
   "source": [
    "# Inserção dos dados do CSV para o banco de dados na nuvem\n",
    "\n",
    "#conn = psycopg2.connect(str_conn)\n",
    "#cur = conn.cursor()\n",
    "#with open('data/municipios.csv', 'r', encoding = \"ISO-8859-1\") as f:\n",
    "#    reader = csv.reader(f)\n",
    "#    next(reader)  \n",
    "#    for row in reader:\n",
    "#        cur.execute(\n",
    "#            \"INSERT INTO dim_municipio VALUES (%s, %s)\",\n",
    "#            row\n",
    "#        )         \n",
    "#conn.commit()"
   ]
  },
  {
   "cell_type": "markdown",
   "metadata": {},
   "source": [
    "#  \n",
    "#  "
   ]
  },
  {
   "cell_type": "markdown",
   "metadata": {},
   "source": [
    "# Análise exploratória dos dados e pré-processamento\n",
    "\n",
    "Ao fim da seção será disponibilizado um ambiente em memória com os dados limpos e categorizados para posterior análise estatística e modelagem de dados."
   ]
  },
  {
   "cell_type": "markdown",
   "metadata": {},
   "source": [
    "<a id='limpeza'></a>\n",
    "\n",
    "## Limpeza e ajuste nos dados"
   ]
  },
  {
   "cell_type": "code",
   "execution_count": 11,
   "metadata": {},
   "outputs": [],
   "source": [
    "# importando dependências\n",
    "\n",
    "import warnings\n",
    "warnings.filterwarnings(\"ignore\")\n",
    "\n",
    "import csv\n",
    "import pandas as pd\n",
    "import unicodedata\n",
    "import sklearn as sl\n",
    "import matplotlib.pyplot as plt\n",
    "import numpy as np\n",
    "import psycopg2\n",
    "from sklearn import preprocessing\n",
    "from fuzzywuzzy import process\n",
    "\n",
    "%matplotlib inline"
   ]
  },
  {
   "cell_type": "code",
   "execution_count": 12,
   "metadata": {},
   "outputs": [],
   "source": [
    "# Dados de autenticação\n",
    "\n",
    "host = \"host=bdrinstance.cba0aotts6j4.us-east-2.rds.amazonaws.com\"\n",
    "dbname = \"dbname=bdrdb\"\n",
    "user = \"user=bdradmin\"\n",
    "passw = \"password=12345678\"\n",
    "str_conn = host + ' ' + dbname + ' ' + user + ' ' + passw"
   ]
  },
  {
   "cell_type": "code",
   "execution_count": 13,
   "metadata": {},
   "outputs": [],
   "source": [
    "# Realiza conexão e copia os dados para um Dataframe do pandas\n",
    "\n",
    "conn = psycopg2.connect(str_conn)\n",
    "cur = conn.cursor()\n",
    "cur.execute(\"SELECT * FROM fato_ead_desempenho\") \n",
    "columns=['id', 'prova_realizada_em', 'dia_da_prova_realizada', 'nota', \n",
    "         'nota_redacao', 'horario_da_prova', 'sexo', 'estado_civil', \n",
    "         'escolaridade', 'cidade_de_nascimento', 'bairro']\n",
    "df = pd.DataFrame(cur.fetchall(), columns=columns)\n",
    "\n",
    "\n",
    "\n",
    "conn = psycopg2.connect(str_conn)\n",
    "cur = conn.cursor()\n",
    "cur.execute(\"SELECT * FROM dim_municipio\") \n",
    "columns=['uf', 'municipio']\n",
    "df_cidades = pd.DataFrame(cur.fetchall(), columns=columns)"
   ]
  },
  {
   "cell_type": "code",
   "execution_count": 14,
   "metadata": {},
   "outputs": [
    {
     "data": {
      "text/html": [
       "<div>\n",
       "<style scoped>\n",
       "    .dataframe tbody tr th:only-of-type {\n",
       "        vertical-align: middle;\n",
       "    }\n",
       "\n",
       "    .dataframe tbody tr th {\n",
       "        vertical-align: top;\n",
       "    }\n",
       "\n",
       "    .dataframe thead th {\n",
       "        text-align: right;\n",
       "    }\n",
       "</style>\n",
       "<table border=\"1\" class=\"dataframe\">\n",
       "  <thead>\n",
       "    <tr style=\"text-align: right;\">\n",
       "      <th></th>\n",
       "      <th>id</th>\n",
       "      <th>prova_realizada_em</th>\n",
       "      <th>dia_da_prova_realizada</th>\n",
       "      <th>nota</th>\n",
       "      <th>nota_redacao</th>\n",
       "      <th>horario_da_prova</th>\n",
       "      <th>sexo</th>\n",
       "      <th>estado_civil</th>\n",
       "      <th>escolaridade</th>\n",
       "      <th>cidade_de_nascimento</th>\n",
       "      <th>bairro</th>\n",
       "    </tr>\n",
       "  </thead>\n",
       "  <tbody>\n",
       "    <tr>\n",
       "      <th>0</th>\n",
       "      <td>0</td>\n",
       "      <td>GO - Goiás</td>\n",
       "      <td>13/01/2017</td>\n",
       "      <td>7,45</td>\n",
       "      <td>2,2</td>\n",
       "      <td>manhã</td>\n",
       "      <td>Masculino</td>\n",
       "      <td>Casado(a)</td>\n",
       "      <td>Ensino médio</td>\n",
       "      <td>fortaleza</td>\n",
       "      <td>Asa Sul</td>\n",
       "    </tr>\n",
       "    <tr>\n",
       "      <th>1</th>\n",
       "      <td>1</td>\n",
       "      <td>GO - Goiás</td>\n",
       "      <td>10/01/2017</td>\n",
       "      <td>7,4</td>\n",
       "      <td>2,4</td>\n",
       "      <td>manhã</td>\n",
       "      <td>Masculino</td>\n",
       "      <td>Casado(a)</td>\n",
       "      <td>Especialização</td>\n",
       "      <td>Recife</td>\n",
       "      <td>Norte (Águas Claras)</td>\n",
       "    </tr>\n",
       "    <tr>\n",
       "      <th>2</th>\n",
       "      <td>2</td>\n",
       "      <td>GO - Goiás</td>\n",
       "      <td>07/01/2017</td>\n",
       "      <td>7,3</td>\n",
       "      <td>1,8</td>\n",
       "      <td>manhã</td>\n",
       "      <td>Masculino</td>\n",
       "      <td>Casado(a)</td>\n",
       "      <td>Superior</td>\n",
       "      <td>BRASILIA</td>\n",
       "      <td>Setor Sudoeste</td>\n",
       "    </tr>\n",
       "    <tr>\n",
       "      <th>3</th>\n",
       "      <td>3</td>\n",
       "      <td>GO - Goiás</td>\n",
       "      <td>02/01/2017</td>\n",
       "      <td>7,2</td>\n",
       "      <td>1,7</td>\n",
       "      <td>Noite</td>\n",
       "      <td>Masculino</td>\n",
       "      <td>Solteiro(a)</td>\n",
       "      <td>Ensino médio</td>\n",
       "      <td>Brasília</td>\n",
       "      <td>Setor Norte</td>\n",
       "    </tr>\n",
       "    <tr>\n",
       "      <th>4</th>\n",
       "      <td>4</td>\n",
       "      <td>GO - Goiás</td>\n",
       "      <td>09/01/2017</td>\n",
       "      <td>6,95</td>\n",
       "      <td>1,7</td>\n",
       "      <td>manhã</td>\n",
       "      <td>Feminino</td>\n",
       "      <td>Solteiro(a)</td>\n",
       "      <td>Superior</td>\n",
       "      <td>BRASÍLIA</td>\n",
       "      <td>Guará I</td>\n",
       "    </tr>\n",
       "  </tbody>\n",
       "</table>\n",
       "</div>"
      ],
      "text/plain": [
       "  id prova_realizada_em dia_da_prova_realizada  nota nota_redacao  \\\n",
       "0  0         GO - Goiás             13/01/2017  7,45          2,2   \n",
       "1  1         GO - Goiás             10/01/2017   7,4          2,4   \n",
       "2  2         GO - Goiás             07/01/2017   7,3          1,8   \n",
       "3  3         GO - Goiás             02/01/2017   7,2          1,7   \n",
       "4  4         GO - Goiás             09/01/2017  6,95          1,7   \n",
       "\n",
       "  horario_da_prova       sexo estado_civil    escolaridade  \\\n",
       "0            manhã  Masculino    Casado(a)    Ensino médio   \n",
       "1            manhã  Masculino    Casado(a)  Especialização   \n",
       "2            manhã  Masculino    Casado(a)        Superior   \n",
       "3            Noite  Masculino  Solteiro(a)    Ensino médio   \n",
       "4            manhã   Feminino  Solteiro(a)        Superior   \n",
       "\n",
       "  cidade_de_nascimento                bairro  \n",
       "0            fortaleza               Asa Sul  \n",
       "1               Recife  Norte (Águas Claras)  \n",
       "2             BRASILIA        Setor Sudoeste  \n",
       "3             Brasília           Setor Norte  \n",
       "4             BRASÍLIA               Guará I  "
      ]
     },
     "execution_count": 14,
     "metadata": {},
     "output_type": "execute_result"
    }
   ],
   "source": [
    "# Verificação dos dados iniciais e finais\n",
    "\n",
    "df.head(5)"
   ]
  },
  {
   "cell_type": "code",
   "execution_count": 15,
   "metadata": {},
   "outputs": [
    {
     "data": {
      "text/html": [
       "<div>\n",
       "<style scoped>\n",
       "    .dataframe tbody tr th:only-of-type {\n",
       "        vertical-align: middle;\n",
       "    }\n",
       "\n",
       "    .dataframe tbody tr th {\n",
       "        vertical-align: top;\n",
       "    }\n",
       "\n",
       "    .dataframe thead th {\n",
       "        text-align: right;\n",
       "    }\n",
       "</style>\n",
       "<table border=\"1\" class=\"dataframe\">\n",
       "  <thead>\n",
       "    <tr style=\"text-align: right;\">\n",
       "      <th></th>\n",
       "      <th>id</th>\n",
       "      <th>prova_realizada_em</th>\n",
       "      <th>dia_da_prova_realizada</th>\n",
       "      <th>nota</th>\n",
       "      <th>nota_redacao</th>\n",
       "      <th>horario_da_prova</th>\n",
       "      <th>sexo</th>\n",
       "      <th>estado_civil</th>\n",
       "      <th>escolaridade</th>\n",
       "      <th>cidade_de_nascimento</th>\n",
       "      <th>bairro</th>\n",
       "    </tr>\n",
       "  </thead>\n",
       "  <tbody>\n",
       "    <tr>\n",
       "      <th>12095</th>\n",
       "      <td>12095</td>\n",
       "      <td>RJ - Rio de Janeiro</td>\n",
       "      <td>12/08/2016</td>\n",
       "      <td>3,25</td>\n",
       "      <td>0</td>\n",
       "      <td>Noite</td>\n",
       "      <td>Masculino</td>\n",
       "      <td>Solteiro(a)</td>\n",
       "      <td>Ensino médio</td>\n",
       "      <td>Campos dos Goytacazes</td>\n",
       "      <td>Tócos</td>\n",
       "    </tr>\n",
       "    <tr>\n",
       "      <th>12096</th>\n",
       "      <td>12096</td>\n",
       "      <td>RJ - Rio de Janeiro</td>\n",
       "      <td>13/08/2016</td>\n",
       "      <td>2,75</td>\n",
       "      <td>0</td>\n",
       "      <td>manhã</td>\n",
       "      <td>Feminino</td>\n",
       "      <td>Separado(a)</td>\n",
       "      <td>Nível técnico</td>\n",
       "      <td>CAMPOS DOS GOYTACAZES</td>\n",
       "      <td>Parque Imperial</td>\n",
       "    </tr>\n",
       "    <tr>\n",
       "      <th>12097</th>\n",
       "      <td>12097</td>\n",
       "      <td>RJ - Rio de Janeiro</td>\n",
       "      <td>08/01/2017</td>\n",
       "      <td>2,75</td>\n",
       "      <td>0</td>\n",
       "      <td>manhã</td>\n",
       "      <td>Feminino</td>\n",
       "      <td>Casado(a)</td>\n",
       "      <td>Ensino médio</td>\n",
       "      <td>CAMPOS DOS GOYTACAZES</td>\n",
       "      <td>Parque Tarcisio Miranda</td>\n",
       "    </tr>\n",
       "    <tr>\n",
       "      <th>12098</th>\n",
       "      <td>12098</td>\n",
       "      <td>RJ - Rio de Janeiro</td>\n",
       "      <td>11/08/2016</td>\n",
       "      <td>2,75</td>\n",
       "      <td>0</td>\n",
       "      <td>manhã</td>\n",
       "      <td>Feminino</td>\n",
       "      <td>Casado(a)</td>\n",
       "      <td>Ensino médio</td>\n",
       "      <td>Campos dos Goytacazes</td>\n",
       "      <td>Parque Jóquei Club</td>\n",
       "    </tr>\n",
       "    <tr>\n",
       "      <th>12099</th>\n",
       "      <td>12099</td>\n",
       "      <td>RJ - Rio de Janeiro</td>\n",
       "      <td>12/08/2016</td>\n",
       "      <td>2,25</td>\n",
       "      <td>0</td>\n",
       "      <td>manhã</td>\n",
       "      <td>Masculino</td>\n",
       "      <td>Casado(a)</td>\n",
       "      <td>Ensino médio</td>\n",
       "      <td>Campos dos goitacazes</td>\n",
       "      <td>Centro</td>\n",
       "    </tr>\n",
       "  </tbody>\n",
       "</table>\n",
       "</div>"
      ],
      "text/plain": [
       "          id   prova_realizada_em dia_da_prova_realizada  nota nota_redacao  \\\n",
       "12095  12095  RJ - Rio de Janeiro             12/08/2016  3,25            0   \n",
       "12096  12096  RJ - Rio de Janeiro             13/08/2016  2,75            0   \n",
       "12097  12097  RJ - Rio de Janeiro             08/01/2017  2,75            0   \n",
       "12098  12098  RJ - Rio de Janeiro             11/08/2016  2,75            0   \n",
       "12099  12099  RJ - Rio de Janeiro             12/08/2016  2,25            0   \n",
       "\n",
       "      horario_da_prova       sexo estado_civil   escolaridade  \\\n",
       "12095            Noite  Masculino  Solteiro(a)   Ensino médio   \n",
       "12096            manhã   Feminino  Separado(a)  Nível técnico   \n",
       "12097            manhã   Feminino    Casado(a)   Ensino médio   \n",
       "12098            manhã   Feminino    Casado(a)   Ensino médio   \n",
       "12099            manhã  Masculino    Casado(a)   Ensino médio   \n",
       "\n",
       "        cidade_de_nascimento                   bairro  \n",
       "12095  Campos dos Goytacazes                    Tócos  \n",
       "12096  CAMPOS DOS GOYTACAZES          Parque Imperial  \n",
       "12097  CAMPOS DOS GOYTACAZES  Parque Tarcisio Miranda  \n",
       "12098  Campos dos Goytacazes       Parque Jóquei Club  \n",
       "12099  Campos dos goitacazes                   Centro  "
      ]
     },
     "execution_count": 15,
     "metadata": {},
     "output_type": "execute_result"
    }
   ],
   "source": [
    "df.tail()"
   ]
  },
  {
   "cell_type": "code",
   "execution_count": 16,
   "metadata": {},
   "outputs": [
    {
     "data": {
      "text/plain": [
       "(12100, 11)"
      ]
     },
     "execution_count": 16,
     "metadata": {},
     "output_type": "execute_result"
    }
   ],
   "source": [
    "# Visualizando as dimensões\n",
    "\n",
    "df.shape"
   ]
  },
  {
   "cell_type": "code",
   "execution_count": 17,
   "metadata": {},
   "outputs": [
    {
     "data": {
      "text/plain": [
       "id                        0\n",
       "prova_realizada_em        0\n",
       "dia_da_prova_realizada    0\n",
       "nota                      0\n",
       "nota_redacao              0\n",
       "horario_da_prova          0\n",
       "sexo                      0\n",
       "estado_civil              0\n",
       "escolaridade              0\n",
       "cidade_de_nascimento      0\n",
       "bairro                    0\n",
       "dtype: int64"
      ]
     },
     "execution_count": 17,
     "metadata": {},
     "output_type": "execute_result"
    }
   ],
   "source": [
    "# Verificando dados nulos ou #N/A\n",
    "\n",
    "missing_values_count = df.isnull().sum()\n",
    "missing_values_count[0:11]"
   ]
  },
  {
   "cell_type": "code",
   "execution_count": 18,
   "metadata": {},
   "outputs": [
    {
     "data": {
      "text/plain": [
       "40"
      ]
     },
     "execution_count": 18,
     "metadata": {},
     "output_type": "execute_result"
    }
   ],
   "source": [
    "(df.bairro == '#N/A').sum()"
   ]
  },
  {
   "cell_type": "code",
   "execution_count": 19,
   "metadata": {},
   "outputs": [
    {
     "data": {
      "text/html": [
       "<div>\n",
       "<style scoped>\n",
       "    .dataframe tbody tr th:only-of-type {\n",
       "        vertical-align: middle;\n",
       "    }\n",
       "\n",
       "    .dataframe tbody tr th {\n",
       "        vertical-align: top;\n",
       "    }\n",
       "\n",
       "    .dataframe thead th {\n",
       "        text-align: right;\n",
       "    }\n",
       "</style>\n",
       "<table border=\"1\" class=\"dataframe\">\n",
       "  <thead>\n",
       "    <tr style=\"text-align: right;\">\n",
       "      <th></th>\n",
       "      <th>id</th>\n",
       "      <th>prova_realizada_em</th>\n",
       "      <th>dia_da_prova_realizada</th>\n",
       "      <th>nota</th>\n",
       "      <th>nota_redacao</th>\n",
       "      <th>horario_da_prova</th>\n",
       "      <th>sexo</th>\n",
       "      <th>estado_civil</th>\n",
       "      <th>escolaridade</th>\n",
       "      <th>cidade_de_nascimento</th>\n",
       "      <th>bairro</th>\n",
       "    </tr>\n",
       "  </thead>\n",
       "  <tbody>\n",
       "    <tr>\n",
       "      <th>352</th>\n",
       "      <td>352</td>\n",
       "      <td>PA - Pará</td>\n",
       "      <td>#N/A</td>\n",
       "      <td>6,55</td>\n",
       "      <td>2,3</td>\n",
       "      <td>#N/A</td>\n",
       "      <td>#N/A</td>\n",
       "      <td>#N/A</td>\n",
       "      <td>#N/A</td>\n",
       "      <td>#N/A</td>\n",
       "      <td>#N/A</td>\n",
       "    </tr>\n",
       "    <tr>\n",
       "      <th>370</th>\n",
       "      <td>370</td>\n",
       "      <td>PA - Pará</td>\n",
       "      <td>#N/A</td>\n",
       "      <td>6,2</td>\n",
       "      <td>1,7</td>\n",
       "      <td>#N/A</td>\n",
       "      <td>#N/A</td>\n",
       "      <td>#N/A</td>\n",
       "      <td>#N/A</td>\n",
       "      <td>#N/A</td>\n",
       "      <td>#N/A</td>\n",
       "    </tr>\n",
       "    <tr>\n",
       "      <th>377</th>\n",
       "      <td>377</td>\n",
       "      <td>PA - Pará</td>\n",
       "      <td>#N/A</td>\n",
       "      <td>6</td>\n",
       "      <td>1,5</td>\n",
       "      <td>#N/A</td>\n",
       "      <td>#N/A</td>\n",
       "      <td>#N/A</td>\n",
       "      <td>#N/A</td>\n",
       "      <td>#N/A</td>\n",
       "      <td>#N/A</td>\n",
       "    </tr>\n",
       "    <tr>\n",
       "      <th>393</th>\n",
       "      <td>393</td>\n",
       "      <td>PA - Pará</td>\n",
       "      <td>#N/A</td>\n",
       "      <td>5,65</td>\n",
       "      <td>1,9</td>\n",
       "      <td>#N/A</td>\n",
       "      <td>#N/A</td>\n",
       "      <td>#N/A</td>\n",
       "      <td>#N/A</td>\n",
       "      <td>#N/A</td>\n",
       "      <td>#N/A</td>\n",
       "    </tr>\n",
       "    <tr>\n",
       "      <th>725</th>\n",
       "      <td>725</td>\n",
       "      <td>GO - Goiás</td>\n",
       "      <td>#N/A</td>\n",
       "      <td>6,75</td>\n",
       "      <td>2</td>\n",
       "      <td>#N/A</td>\n",
       "      <td>#N/A</td>\n",
       "      <td>#N/A</td>\n",
       "      <td>#N/A</td>\n",
       "      <td>#N/A</td>\n",
       "      <td>#N/A</td>\n",
       "    </tr>\n",
       "  </tbody>\n",
       "</table>\n",
       "</div>"
      ],
      "text/plain": [
       "      id prova_realizada_em dia_da_prova_realizada  nota nota_redacao  \\\n",
       "352  352          PA - Pará                   #N/A  6,55          2,3   \n",
       "370  370          PA - Pará                   #N/A   6,2          1,7   \n",
       "377  377          PA - Pará                   #N/A     6          1,5   \n",
       "393  393          PA - Pará                   #N/A  5,65          1,9   \n",
       "725  725         GO - Goiás                   #N/A  6,75            2   \n",
       "\n",
       "    horario_da_prova  sexo estado_civil escolaridade cidade_de_nascimento  \\\n",
       "352             #N/A  #N/A         #N/A         #N/A                 #N/A   \n",
       "370             #N/A  #N/A         #N/A         #N/A                 #N/A   \n",
       "377             #N/A  #N/A         #N/A         #N/A                 #N/A   \n",
       "393             #N/A  #N/A         #N/A         #N/A                 #N/A   \n",
       "725             #N/A  #N/A         #N/A         #N/A                 #N/A   \n",
       "\n",
       "    bairro  \n",
       "352   #N/A  \n",
       "370   #N/A  \n",
       "377   #N/A  \n",
       "393   #N/A  \n",
       "725   #N/A  "
      ]
     },
     "execution_count": 19,
     "metadata": {},
     "output_type": "execute_result"
    }
   ],
   "source": [
    "(df.loc[df['bairro'] == '#N/A']).head(5)"
   ]
  },
  {
   "cell_type": "code",
   "execution_count": 20,
   "metadata": {},
   "outputs": [
    {
     "data": {
      "text/plain": [
       "12060"
      ]
     },
     "execution_count": 20,
     "metadata": {},
     "output_type": "execute_result"
    }
   ],
   "source": [
    "# Removendo NA - Pois não acrescentam valor aos dados\n",
    "\n",
    "df = df.loc[df['bairro'] != '#N/A']\n",
    "len(df)"
   ]
  },
  {
   "cell_type": "code",
   "execution_count": 21,
   "metadata": {},
   "outputs": [
    {
     "data": {
      "text/plain": [
       "id                                 int64\n",
       "prova_realizada_em                object\n",
       "dia_da_prova_realizada    datetime64[ns]\n",
       "nota                             float64\n",
       "nota_redacao                     float64\n",
       "horario_da_prova                  object\n",
       "sexo                              object\n",
       "estado_civil                      object\n",
       "escolaridade                      object\n",
       "cidade_de_nascimento              object\n",
       "bairro                            object\n",
       "dtype: object"
      ]
     },
     "execution_count": 21,
     "metadata": {},
     "output_type": "execute_result"
    }
   ],
   "source": [
    "# Ajuste das do formato das notas\n",
    "\n",
    "df['nota'] = [x.replace(',', '.') for x in df['nota']]\n",
    "df['nota_redacao'] = [x.replace(',', '.') for x in df['nota_redacao']]\n",
    "\n",
    "\n",
    "# Modificanto os tipos das colunas\n",
    "\n",
    "df['id'] = df['id'].astype(int)\n",
    "df['dia_da_prova_realizada'] = pd.to_datetime(df['dia_da_prova_realizada'])\n",
    "df['nota'] = df['nota'].astype(float)\n",
    "df['nota_redacao'] = df['nota_redacao'].astype(float)\n",
    "df.dtypes"
   ]
  },
  {
   "cell_type": "code",
   "execution_count": 22,
   "metadata": {},
   "outputs": [],
   "source": [
    "# Ajuste da coluna 'prova_realizada_em' com a separação em outras duas colunas\n",
    "\n",
    "# Remoção das colunas id e prova_realizada_em, que não acrescentam valor \n",
    "# ao dataframe\n",
    "\n",
    "new = df[\"prova_realizada_em\"].str.split(\"-\", n = 1, expand = True)\n",
    "df[\"estado_realizado_em\"]= new[0] \n",
    "df[\"cidade_realizado_em\"]= new[1]\n",
    "df = df.drop(['id'], axis=1)\n",
    "df = df.drop(['prova_realizada_em'], axis=1)"
   ]
  },
  {
   "cell_type": "code",
   "execution_count": 23,
   "metadata": {},
   "outputs": [
    {
     "data": {
      "text/html": [
       "<div>\n",
       "<style scoped>\n",
       "    .dataframe tbody tr th:only-of-type {\n",
       "        vertical-align: middle;\n",
       "    }\n",
       "\n",
       "    .dataframe tbody tr th {\n",
       "        vertical-align: top;\n",
       "    }\n",
       "\n",
       "    .dataframe thead th {\n",
       "        text-align: right;\n",
       "    }\n",
       "</style>\n",
       "<table border=\"1\" class=\"dataframe\">\n",
       "  <thead>\n",
       "    <tr style=\"text-align: right;\">\n",
       "      <th></th>\n",
       "      <th>dia_da_prova_realizada</th>\n",
       "      <th>nota</th>\n",
       "      <th>nota_redacao</th>\n",
       "      <th>horario_da_prova</th>\n",
       "      <th>sexo</th>\n",
       "      <th>estado_civil</th>\n",
       "      <th>escolaridade</th>\n",
       "      <th>cidade_de_nascimento</th>\n",
       "      <th>bairro</th>\n",
       "      <th>estado_realizado_em</th>\n",
       "      <th>cidade_realizado_em</th>\n",
       "    </tr>\n",
       "  </thead>\n",
       "  <tbody>\n",
       "    <tr>\n",
       "      <th>0</th>\n",
       "      <td>2017-01-13</td>\n",
       "      <td>7.45</td>\n",
       "      <td>2.2</td>\n",
       "      <td>manhã</td>\n",
       "      <td>Masculino</td>\n",
       "      <td>Casado(a)</td>\n",
       "      <td>Ensino médio</td>\n",
       "      <td>fortaleza</td>\n",
       "      <td>Asa Sul</td>\n",
       "      <td>GO</td>\n",
       "      <td>Goiás</td>\n",
       "    </tr>\n",
       "    <tr>\n",
       "      <th>1</th>\n",
       "      <td>2017-10-01</td>\n",
       "      <td>7.40</td>\n",
       "      <td>2.4</td>\n",
       "      <td>manhã</td>\n",
       "      <td>Masculino</td>\n",
       "      <td>Casado(a)</td>\n",
       "      <td>Especialização</td>\n",
       "      <td>Recife</td>\n",
       "      <td>Norte (Águas Claras)</td>\n",
       "      <td>GO</td>\n",
       "      <td>Goiás</td>\n",
       "    </tr>\n",
       "    <tr>\n",
       "      <th>2</th>\n",
       "      <td>2017-07-01</td>\n",
       "      <td>7.30</td>\n",
       "      <td>1.8</td>\n",
       "      <td>manhã</td>\n",
       "      <td>Masculino</td>\n",
       "      <td>Casado(a)</td>\n",
       "      <td>Superior</td>\n",
       "      <td>BRASILIA</td>\n",
       "      <td>Setor Sudoeste</td>\n",
       "      <td>GO</td>\n",
       "      <td>Goiás</td>\n",
       "    </tr>\n",
       "    <tr>\n",
       "      <th>3</th>\n",
       "      <td>2017-02-01</td>\n",
       "      <td>7.20</td>\n",
       "      <td>1.7</td>\n",
       "      <td>Noite</td>\n",
       "      <td>Masculino</td>\n",
       "      <td>Solteiro(a)</td>\n",
       "      <td>Ensino médio</td>\n",
       "      <td>Brasília</td>\n",
       "      <td>Setor Norte</td>\n",
       "      <td>GO</td>\n",
       "      <td>Goiás</td>\n",
       "    </tr>\n",
       "    <tr>\n",
       "      <th>4</th>\n",
       "      <td>2017-09-01</td>\n",
       "      <td>6.95</td>\n",
       "      <td>1.7</td>\n",
       "      <td>manhã</td>\n",
       "      <td>Feminino</td>\n",
       "      <td>Solteiro(a)</td>\n",
       "      <td>Superior</td>\n",
       "      <td>BRASÍLIA</td>\n",
       "      <td>Guará I</td>\n",
       "      <td>GO</td>\n",
       "      <td>Goiás</td>\n",
       "    </tr>\n",
       "  </tbody>\n",
       "</table>\n",
       "</div>"
      ],
      "text/plain": [
       "  dia_da_prova_realizada  nota  nota_redacao horario_da_prova       sexo  \\\n",
       "0             2017-01-13  7.45           2.2            manhã  Masculino   \n",
       "1             2017-10-01  7.40           2.4            manhã  Masculino   \n",
       "2             2017-07-01  7.30           1.8            manhã  Masculino   \n",
       "3             2017-02-01  7.20           1.7            Noite  Masculino   \n",
       "4             2017-09-01  6.95           1.7            manhã   Feminino   \n",
       "\n",
       "  estado_civil    escolaridade cidade_de_nascimento                bairro  \\\n",
       "0    Casado(a)    Ensino médio            fortaleza               Asa Sul   \n",
       "1    Casado(a)  Especialização               Recife  Norte (Águas Claras)   \n",
       "2    Casado(a)        Superior             BRASILIA        Setor Sudoeste   \n",
       "3  Solteiro(a)    Ensino médio             Brasília           Setor Norte   \n",
       "4  Solteiro(a)        Superior             BRASÍLIA               Guará I   \n",
       "\n",
       "  estado_realizado_em cidade_realizado_em  \n",
       "0                 GO                Goiás  \n",
       "1                 GO                Goiás  \n",
       "2                 GO                Goiás  \n",
       "3                 GO                Goiás  \n",
       "4                 GO                Goiás  "
      ]
     },
     "execution_count": 23,
     "metadata": {},
     "output_type": "execute_result"
    }
   ],
   "source": [
    "df.head(5)"
   ]
  },
  {
   "cell_type": "code",
   "execution_count": 24,
   "metadata": {},
   "outputs": [],
   "source": [
    "# Limpeza de todos os campos, retirando acentuação, espaços, etc.\n",
    "\n",
    "def clean_data(a):\n",
    "    a = unicodedata.normalize('NFKD', a).encode('ascii', 'ignore'\n",
    "            ).decode('utf-8')\n",
    "    a = a.replace('(a)', '')\n",
    "    a = a.upper()\n",
    "    a = a.strip()\n",
    "    return a"
   ]
  },
  {
   "cell_type": "code",
   "execution_count": 25,
   "metadata": {},
   "outputs": [],
   "source": [
    "df['horario_da_prova'] = df['horario_da_prova'].apply(lambda x: \\\n",
    "        clean_data(x))\n",
    "df['sexo'] = df['sexo'].apply(lambda x: \\\n",
    "        clean_data(x))\n",
    "df['estado_civil'] = df['estado_civil'].apply(lambda x: \\\n",
    "        clean_data(x))\n",
    "df['escolaridade'] = df['escolaridade'].apply(lambda x: \\\n",
    "        clean_data(x))\n",
    "df['cidade_de_nascimento'] = df['cidade_de_nascimento'].apply(lambda x: \\\n",
    "        clean_data(x))\n",
    "df['bairro'] = df['bairro'].apply(lambda x: \\\n",
    "        clean_data(x))\n",
    "df['estado_realizado_em'] = df['estado_realizado_em'].apply(lambda x: \\\n",
    "        clean_data(x))\n",
    "df['cidade_realizado_em'] = df['cidade_realizado_em'].apply(lambda x: \\\n",
    "        clean_data(x))"
   ]
  },
  {
   "cell_type": "code",
   "execution_count": 26,
   "metadata": {},
   "outputs": [],
   "source": [
    "# Nova coluna com aprovação ou não do aluno de acordo com a regra de negócio\n",
    "\n",
    "conditions = (df['nota'] >= 5) & (df['nota_redacao'] > 0)\n",
    "df['APROVADO'] = np.where(conditions, 'SIM', 'NAO')"
   ]
  },
  {
   "cell_type": "code",
   "execution_count": 27,
   "metadata": {},
   "outputs": [
    {
     "data": {
      "text/html": [
       "<div>\n",
       "<style scoped>\n",
       "    .dataframe tbody tr th:only-of-type {\n",
       "        vertical-align: middle;\n",
       "    }\n",
       "\n",
       "    .dataframe tbody tr th {\n",
       "        vertical-align: top;\n",
       "    }\n",
       "\n",
       "    .dataframe thead th {\n",
       "        text-align: right;\n",
       "    }\n",
       "</style>\n",
       "<table border=\"1\" class=\"dataframe\">\n",
       "  <thead>\n",
       "    <tr style=\"text-align: right;\">\n",
       "      <th></th>\n",
       "      <th>dia_da_prova_realizada</th>\n",
       "      <th>nota</th>\n",
       "      <th>nota_redacao</th>\n",
       "      <th>horario_da_prova</th>\n",
       "      <th>sexo</th>\n",
       "      <th>estado_civil</th>\n",
       "      <th>escolaridade</th>\n",
       "      <th>cidade_de_nascimento</th>\n",
       "      <th>bairro</th>\n",
       "      <th>estado_realizado_em</th>\n",
       "      <th>cidade_realizado_em</th>\n",
       "      <th>APROVADO</th>\n",
       "    </tr>\n",
       "  </thead>\n",
       "  <tbody>\n",
       "    <tr>\n",
       "      <th>0</th>\n",
       "      <td>2017-01-13</td>\n",
       "      <td>7.45</td>\n",
       "      <td>2.2</td>\n",
       "      <td>MANHA</td>\n",
       "      <td>MASCULINO</td>\n",
       "      <td>CASADO</td>\n",
       "      <td>ENSINO MEDIO</td>\n",
       "      <td>FORTALEZA</td>\n",
       "      <td>ASA SUL</td>\n",
       "      <td>GO</td>\n",
       "      <td>GOIAS</td>\n",
       "      <td>SIM</td>\n",
       "    </tr>\n",
       "    <tr>\n",
       "      <th>1</th>\n",
       "      <td>2017-10-01</td>\n",
       "      <td>7.40</td>\n",
       "      <td>2.4</td>\n",
       "      <td>MANHA</td>\n",
       "      <td>MASCULINO</td>\n",
       "      <td>CASADO</td>\n",
       "      <td>ESPECIALIZACAO</td>\n",
       "      <td>RECIFE</td>\n",
       "      <td>NORTE (AGUAS CLARAS)</td>\n",
       "      <td>GO</td>\n",
       "      <td>GOIAS</td>\n",
       "      <td>SIM</td>\n",
       "    </tr>\n",
       "    <tr>\n",
       "      <th>2</th>\n",
       "      <td>2017-07-01</td>\n",
       "      <td>7.30</td>\n",
       "      <td>1.8</td>\n",
       "      <td>MANHA</td>\n",
       "      <td>MASCULINO</td>\n",
       "      <td>CASADO</td>\n",
       "      <td>SUPERIOR</td>\n",
       "      <td>BRASILIA</td>\n",
       "      <td>SETOR SUDOESTE</td>\n",
       "      <td>GO</td>\n",
       "      <td>GOIAS</td>\n",
       "      <td>SIM</td>\n",
       "    </tr>\n",
       "    <tr>\n",
       "      <th>3</th>\n",
       "      <td>2017-02-01</td>\n",
       "      <td>7.20</td>\n",
       "      <td>1.7</td>\n",
       "      <td>NOITE</td>\n",
       "      <td>MASCULINO</td>\n",
       "      <td>SOLTEIRO</td>\n",
       "      <td>ENSINO MEDIO</td>\n",
       "      <td>BRASILIA</td>\n",
       "      <td>SETOR NORTE</td>\n",
       "      <td>GO</td>\n",
       "      <td>GOIAS</td>\n",
       "      <td>SIM</td>\n",
       "    </tr>\n",
       "    <tr>\n",
       "      <th>4</th>\n",
       "      <td>2017-09-01</td>\n",
       "      <td>6.95</td>\n",
       "      <td>1.7</td>\n",
       "      <td>MANHA</td>\n",
       "      <td>FEMININO</td>\n",
       "      <td>SOLTEIRO</td>\n",
       "      <td>SUPERIOR</td>\n",
       "      <td>BRASILIA</td>\n",
       "      <td>GUARA I</td>\n",
       "      <td>GO</td>\n",
       "      <td>GOIAS</td>\n",
       "      <td>SIM</td>\n",
       "    </tr>\n",
       "  </tbody>\n",
       "</table>\n",
       "</div>"
      ],
      "text/plain": [
       "  dia_da_prova_realizada  nota  nota_redacao horario_da_prova       sexo  \\\n",
       "0             2017-01-13  7.45           2.2            MANHA  MASCULINO   \n",
       "1             2017-10-01  7.40           2.4            MANHA  MASCULINO   \n",
       "2             2017-07-01  7.30           1.8            MANHA  MASCULINO   \n",
       "3             2017-02-01  7.20           1.7            NOITE  MASCULINO   \n",
       "4             2017-09-01  6.95           1.7            MANHA   FEMININO   \n",
       "\n",
       "  estado_civil    escolaridade cidade_de_nascimento                bairro  \\\n",
       "0       CASADO    ENSINO MEDIO            FORTALEZA               ASA SUL   \n",
       "1       CASADO  ESPECIALIZACAO               RECIFE  NORTE (AGUAS CLARAS)   \n",
       "2       CASADO        SUPERIOR             BRASILIA        SETOR SUDOESTE   \n",
       "3     SOLTEIRO    ENSINO MEDIO             BRASILIA           SETOR NORTE   \n",
       "4     SOLTEIRO        SUPERIOR             BRASILIA               GUARA I   \n",
       "\n",
       "  estado_realizado_em cidade_realizado_em APROVADO  \n",
       "0                  GO               GOIAS      SIM  \n",
       "1                  GO               GOIAS      SIM  \n",
       "2                  GO               GOIAS      SIM  \n",
       "3                  GO               GOIAS      SIM  \n",
       "4                  GO               GOIAS      SIM  "
      ]
     },
     "execution_count": 27,
     "metadata": {},
     "output_type": "execute_result"
    }
   ],
   "source": [
    "df.head(5)"
   ]
  },
  {
   "cell_type": "code",
   "execution_count": 28,
   "metadata": {},
   "outputs": [
    {
     "data": {
      "text/plain": [
       "42"
      ]
     },
     "execution_count": 28,
     "metadata": {},
     "output_type": "execute_result"
    }
   ],
   "source": [
    "# Número de pessoas que zeraram a redação e passaram na prova\n",
    "\n",
    "len(df.loc[ (df['nota'] >= 5) & (df['nota_redacao'] == 0) ])"
   ]
  },
  {
   "cell_type": "code",
   "execution_count": 29,
   "metadata": {},
   "outputs": [
    {
     "data": {
      "text/plain": [
       "array(['GO', 'MG', 'MS', 'PA', 'PB', 'RJ', 'SC', 'SE', 'CE', 'PI', 'RN',\n",
       "       'BA', 'RS', 'RO', 'MT', 'PE', 'RR', 'MA', 'ES', 'TO', 'AM'],\n",
       "      dtype=object)"
      ]
     },
     "execution_count": 29,
     "metadata": {},
     "output_type": "execute_result"
    }
   ],
   "source": [
    "# Número estados realizados a prova\n",
    "\n",
    "df['estado_realizado_em'].unique()"
   ]
  },
  {
   "cell_type": "code",
   "execution_count": 30,
   "metadata": {},
   "outputs": [
    {
     "data": {
      "text/plain": [
       "array(['GOIAS', 'MINAS GERAIS', 'MATO GROSSO DO SUL', 'PARA', 'PARAIBA',\n",
       "       'RIO DE JANEIRO', 'SANTA CATARINA', 'SERGIPE', 'CEARA', 'PIAUI',\n",
       "       'RIO GRANDE DO NORTE', 'BAHIA', 'RIO GRANDE DO SUL', 'RONDONIA',\n",
       "       'MATO GROSSO', 'PERNAMBUCO', 'RORAIMA', 'MARANHAO',\n",
       "       'ESPIRITO SANTO', 'TOCANTINS', 'AMAZONAS'], dtype=object)"
      ]
     },
     "execution_count": 30,
     "metadata": {},
     "output_type": "execute_result"
    }
   ],
   "source": [
    "# Número municipios realizados a prova\n",
    "\n",
    "df['cidade_realizado_em'].unique()"
   ]
  },
  {
   "cell_type": "markdown",
   "metadata": {},
   "source": [
    "   "
   ]
  },
  {
   "cell_type": "markdown",
   "metadata": {},
   "source": [
    "Iremos adicionar um tratamento na cidade do nascimento e adição do estado do nascimento de acordo com a base de municípios do IBGE de 2017"
   ]
  },
  {
   "cell_type": "code",
   "execution_count": 31,
   "metadata": {},
   "outputs": [],
   "source": [
    "df_cidades['municipio'] = df_cidades['municipio'].apply(lambda x: \\\n",
    "        clean_data(x))\n",
    "\n",
    "municipios_ibge = df_cidades['municipio'].unique()"
   ]
  },
  {
   "cell_type": "code",
   "execution_count": 32,
   "metadata": {},
   "outputs": [],
   "source": [
    "def get_cidade_score(cidade, municipios_ibge):\n",
    "    if cidade in municipios_ibge:\n",
    "        return cidade, 100\n",
    "\n",
    "    new_name, score = process.extractOne(cidade, municipios_ibge)\n",
    "\n",
    "    if score < 90:\n",
    "        return cidade, score\n",
    "    else:\n",
    "        return new_name, score\n",
    "\n",
    "def get_estado(cidade, df_cidades):\n",
    "    return df_cidades.loc[df_cidades['municipio'] == cidade, 'uf'].values[0]"
   ]
  },
  {
   "cell_type": "code",
   "execution_count": 33,
   "metadata": {},
   "outputs": [
    {
     "name": "stderr",
     "output_type": "stream",
     "text": [
      "WARNING:root:Applied processor reduces input query to empty string, all comparisons will have score 0. [Query: '.']\n"
     ]
    }
   ],
   "source": [
    "df['cidade_nascimento'],df['score']  = zip(*df['cidade_de_nascimento'].apply(lambda x: \\\n",
    "        get_cidade_score(x, municipios_ibge)))"
   ]
  },
  {
   "cell_type": "code",
   "execution_count": 35,
   "metadata": {},
   "outputs": [],
   "source": [
    "# Removendo as cidades que não combinam em até 90 % com a tabela do ibge\n",
    "\n",
    "df = df.loc[df['score'] >= 90]\n",
    "\n",
    "# Removendo colunas desnecessárias\n",
    "\n",
    "df = df.drop('score', 1)\n",
    "df = df.drop('cidade_de_nascimento', 1)"
   ]
  },
  {
   "cell_type": "code",
   "execution_count": 37,
   "metadata": {},
   "outputs": [],
   "source": [
    "df['estado_nascimento'] = df['cidade_nascimento'].apply(lambda x: get_estado(x, df_cidades))"
   ]
  },
  {
   "cell_type": "code",
   "execution_count": 45,
   "metadata": {},
   "outputs": [],
   "source": [
    "df.loc[df['cidade_nascimento'] == 'BRASILAIA', 'cidade_nascimento'] = 'BRASILIA'\n",
    "df.loc[df['cidade_nascimento'] == 'BRASILIA', 'estado_nascimento'] = 'DF'\n",
    "df.loc[df['estado_civil'] == '0', 'estado_civil'] = 'NAO IDENTIFICADO'\n",
    "\n",
    "df = df[[\n",
    "    'dia_da_prova_realizada',\n",
    "     'nota',\n",
    "     'nota_redacao',\n",
    "     'horario_da_prova',\n",
    "     'sexo',\n",
    "     'estado_civil',\n",
    "     'escolaridade',     \n",
    "     'estado_realizado_em',\n",
    "     'cidade_realizado_em', \n",
    "     'bairro',\n",
    "     'cidade_nascimento',\n",
    "     'estado_nascimento',     \n",
    "     'APROVADO'\n",
    "    ]]"
   ]
  },
  {
   "cell_type": "markdown",
   "metadata": {},
   "source": [
    "Salvando base tratada na nuvem"
   ]
  },
  {
   "cell_type": "code",
   "execution_count": 47,
   "metadata": {},
   "outputs": [],
   "source": [
    "# Criação da tabela fato na nuvem AWS - RDS com PostgreSQL\n",
    "# O banco de dados está com segurança pública para acesso\n",
    "# Os dados serão inputados como text para posterior tratamento com o dataframe\n",
    "\n",
    "conn = psycopg2.connect(str_conn)\n",
    "cur = conn.cursor()\n",
    "cur.execute(\n",
    "    \"\"\"\n",
    "    CREATE TABLE base_tratada (\n",
    "        dia_da_prova_realizada text,\n",
    "        nota text,\n",
    "        nota_redacao text,\n",
    "        horario_da_prova text,\n",
    "        sexo text,\n",
    "        estado_civil text,\n",
    "        escolaridade text,\n",
    "        estado_realizado_em text,\n",
    "        cidade_realizado_em text,\n",
    "        bairro text,\n",
    "        cidade_nascimento text,\n",
    "        estado_nascimento text,\n",
    "        APROVADO text\n",
    "    )\n",
    "    \"\"\"\n",
    ")\n",
    "conn.commit()"
   ]
  },
  {
   "cell_type": "code",
   "execution_count": 49,
   "metadata": {},
   "outputs": [],
   "source": [
    "df.to_csv('data/base_tratada.csv', index=False)"
   ]
  },
  {
   "cell_type": "code",
   "execution_count": 51,
   "metadata": {},
   "outputs": [],
   "source": [
    "# Inserção dos dados do CSV para o banco de dados na nuvem\n",
    "\n",
    "conn = psycopg2.connect(str_conn)\n",
    "cur = conn.cursor()\n",
    "with open('data/base_tratada.csv', 'r', encoding = \"ISO-8859-1\") as f:\n",
    "    reader = csv.reader(f)\n",
    "    next(reader)  \n",
    "    for row in reader:\n",
    "        cur.execute(\n",
    "            \"INSERT INTO base_tratada VALUES (%s, %s, %s, %s, %s, %s, %s, %s, %s, %s, %s, %s, %s)\",\n",
    "            row\n",
    "        )         \n",
    "conn.commit()"
   ]
  },
  {
   "cell_type": "markdown",
   "metadata": {},
   "source": [
    " "
   ]
  },
  {
   "cell_type": "markdown",
   "metadata": {},
   "source": [
    "<a id='viz'></a>\n",
    "## Visualização dos dados"
   ]
  },
  {
   "cell_type": "code",
   "execution_count": 53,
   "metadata": {},
   "outputs": [
    {
     "data": {
      "text/html": [
       "<div>\n",
       "<style scoped>\n",
       "    .dataframe tbody tr th:only-of-type {\n",
       "        vertical-align: middle;\n",
       "    }\n",
       "\n",
       "    .dataframe tbody tr th {\n",
       "        vertical-align: top;\n",
       "    }\n",
       "\n",
       "    .dataframe thead th {\n",
       "        text-align: right;\n",
       "    }\n",
       "</style>\n",
       "<table border=\"1\" class=\"dataframe\">\n",
       "  <thead>\n",
       "    <tr style=\"text-align: right;\">\n",
       "      <th></th>\n",
       "      <th>dia_da_prova_realizada</th>\n",
       "      <th>nota</th>\n",
       "      <th>nota_redacao</th>\n",
       "      <th>horario_da_prova</th>\n",
       "      <th>sexo</th>\n",
       "      <th>estado_civil</th>\n",
       "      <th>escolaridade</th>\n",
       "      <th>estado_realizado_em</th>\n",
       "      <th>cidade_realizado_em</th>\n",
       "      <th>bairro</th>\n",
       "      <th>cidade_nascimento</th>\n",
       "      <th>estado_nascimento</th>\n",
       "      <th>APROVADO</th>\n",
       "    </tr>\n",
       "  </thead>\n",
       "  <tbody>\n",
       "    <tr>\n",
       "      <th>0</th>\n",
       "      <td>2017-01-13</td>\n",
       "      <td>7.45</td>\n",
       "      <td>2.2</td>\n",
       "      <td>0</td>\n",
       "      <td>1</td>\n",
       "      <td>0</td>\n",
       "      <td>2</td>\n",
       "      <td>4</td>\n",
       "      <td>GOIAS</td>\n",
       "      <td>ASA SUL</td>\n",
       "      <td>FORTALEZA</td>\n",
       "      <td>5</td>\n",
       "      <td>1</td>\n",
       "    </tr>\n",
       "    <tr>\n",
       "      <th>1</th>\n",
       "      <td>2017-10-01</td>\n",
       "      <td>7.40</td>\n",
       "      <td>2.4</td>\n",
       "      <td>0</td>\n",
       "      <td>1</td>\n",
       "      <td>0</td>\n",
       "      <td>3</td>\n",
       "      <td>4</td>\n",
       "      <td>GOIAS</td>\n",
       "      <td>NORTE (AGUAS CLARAS)</td>\n",
       "      <td>RECIFE</td>\n",
       "      <td>15</td>\n",
       "      <td>1</td>\n",
       "    </tr>\n",
       "    <tr>\n",
       "      <th>2</th>\n",
       "      <td>2017-07-01</td>\n",
       "      <td>7.30</td>\n",
       "      <td>1.8</td>\n",
       "      <td>0</td>\n",
       "      <td>1</td>\n",
       "      <td>0</td>\n",
       "      <td>8</td>\n",
       "      <td>4</td>\n",
       "      <td>GOIAS</td>\n",
       "      <td>SETOR SUDOESTE</td>\n",
       "      <td>BRASILIA</td>\n",
       "      <td>6</td>\n",
       "      <td>1</td>\n",
       "    </tr>\n",
       "    <tr>\n",
       "      <th>3</th>\n",
       "      <td>2017-02-01</td>\n",
       "      <td>7.20</td>\n",
       "      <td>1.7</td>\n",
       "      <td>1</td>\n",
       "      <td>1</td>\n",
       "      <td>4</td>\n",
       "      <td>2</td>\n",
       "      <td>4</td>\n",
       "      <td>GOIAS</td>\n",
       "      <td>SETOR NORTE</td>\n",
       "      <td>BRASILIA</td>\n",
       "      <td>6</td>\n",
       "      <td>1</td>\n",
       "    </tr>\n",
       "    <tr>\n",
       "      <th>4</th>\n",
       "      <td>2017-09-01</td>\n",
       "      <td>6.95</td>\n",
       "      <td>1.7</td>\n",
       "      <td>0</td>\n",
       "      <td>0</td>\n",
       "      <td>4</td>\n",
       "      <td>8</td>\n",
       "      <td>4</td>\n",
       "      <td>GOIAS</td>\n",
       "      <td>GUARA I</td>\n",
       "      <td>BRASILIA</td>\n",
       "      <td>6</td>\n",
       "      <td>1</td>\n",
       "    </tr>\n",
       "  </tbody>\n",
       "</table>\n",
       "</div>"
      ],
      "text/plain": [
       "  dia_da_prova_realizada  nota  nota_redacao  horario_da_prova  sexo  \\\n",
       "0             2017-01-13  7.45           2.2                 0     1   \n",
       "1             2017-10-01  7.40           2.4                 0     1   \n",
       "2             2017-07-01  7.30           1.8                 0     1   \n",
       "3             2017-02-01  7.20           1.7                 1     1   \n",
       "4             2017-09-01  6.95           1.7                 0     0   \n",
       "\n",
       "   estado_civil  escolaridade  estado_realizado_em cidade_realizado_em  \\\n",
       "0             0             2                    4               GOIAS   \n",
       "1             0             3                    4               GOIAS   \n",
       "2             0             8                    4               GOIAS   \n",
       "3             4             2                    4               GOIAS   \n",
       "4             4             8                    4               GOIAS   \n",
       "\n",
       "                 bairro cidade_nascimento  estado_nascimento  APROVADO  \n",
       "0               ASA SUL         FORTALEZA                  5         1  \n",
       "1  NORTE (AGUAS CLARAS)            RECIFE                 15         1  \n",
       "2        SETOR SUDOESTE          BRASILIA                  6         1  \n",
       "3           SETOR NORTE          BRASILIA                  6         1  \n",
       "4               GUARA I          BRASILIA                  6         1  "
      ]
     },
     "execution_count": 53,
     "metadata": {},
     "output_type": "execute_result"
    }
   ],
   "source": [
    "# Recuperando a base tratada na nuvem\n",
    "\n",
    "conn = psycopg2.connect(str_conn)\n",
    "cur = conn.cursor()\n",
    "cur.execute(\"SELECT * FROM base_tratada\") \n",
    "columns=['dia_da_prova_realizada',\n",
    "         'nota',\n",
    "         'nota_redacao',\n",
    "         'horario_da_prova',\n",
    "         'sexo',\n",
    "         'estado_civil',\n",
    "         'escolaridade',     \n",
    "         'estado_realizado_em',\n",
    "         'cidade_realizado_em', \n",
    "         'bairro',\n",
    "         'cidade_nascimento',\n",
    "         'estado_nascimento',     \n",
    "         'APROVADO']\n",
    "df = pd.DataFrame(cur.fetchall(), columns=columns)\n",
    "\n",
    "\n",
    "df['dia_da_prova_realizada'] = pd.to_datetime(df['dia_da_prova_realizada'])\n",
    "df['nota'] = df['nota'].astype(float)\n",
    "df['nota_redacao'] = df['nota_redacao'].astype(float)\n",
    "\n",
    "\n",
    "# Transformação colunas em labels para facilitar a categorização \n",
    "# e aprendizado de modelos\n",
    "\n",
    "le_horario_da_prova = preprocessing.LabelEncoder()\n",
    "le_sexo = preprocessing.LabelEncoder()\n",
    "le_estado_civil = preprocessing.LabelEncoder()\n",
    "le_escolaridade = preprocessing.LabelEncoder()\n",
    "le_estado_realizado_em = preprocessing.LabelEncoder()\n",
    "le_estado_nascimento = preprocessing.LabelEncoder()\n",
    "\n",
    "df['horario_da_prova'] = \\\n",
    "    le_horario_da_prova.fit_transform(df['horario_da_prova'])\n",
    "df['sexo'] = \\\n",
    "    le_sexo.fit_transform(df['sexo'])\n",
    "df['estado_civil'] = \\\n",
    "    le_estado_civil.fit_transform(df['estado_civil'])\n",
    "df['escolaridade'] = \\\n",
    "    le_escolaridade.fit_transform(df['escolaridade'])\n",
    "df['estado_realizado_em'] = \\\n",
    "    le_estado_realizado_em.fit_transform(df['estado_realizado_em'])\n",
    "df['estado_nascimento'] = \\\n",
    "    le_estado_nascimento.fit_transform(df['estado_nascimento'])\n",
    "\n",
    "# criando categoria aprovado(1) ou reprovado(0)\n",
    "\n",
    "df['APROVADO'] = np.where(df['APROVADO'] == 'SIM', 1, 0)\n",
    "\n",
    "\n",
    "df.head(5)\n"
   ]
  },
  {
   "cell_type": "code",
   "execution_count": 54,
   "metadata": {},
   "outputs": [
    {
     "data": {
      "text/plain": [
       "['MANHA', 'NOITE']"
      ]
     },
     "execution_count": 54,
     "metadata": {},
     "output_type": "execute_result"
    }
   ],
   "source": [
    "# Dicionário de binarização\n",
    "list(le_horario_da_prova.classes_)"
   ]
  },
  {
   "cell_type": "code",
   "execution_count": 55,
   "metadata": {},
   "outputs": [
    {
     "data": {
      "text/plain": [
       "['FEMININO', 'MASCULINO']"
      ]
     },
     "execution_count": 55,
     "metadata": {},
     "output_type": "execute_result"
    }
   ],
   "source": [
    "list(le_sexo.classes_)"
   ]
  },
  {
   "cell_type": "code",
   "execution_count": 56,
   "metadata": {},
   "outputs": [
    {
     "data": {
      "text/plain": [
       "['CASADO', 'DIVORCIADO', 'NAO IDENTIFICADO', 'SEPARADO', 'SOLTEIRO', 'VIUVO']"
      ]
     },
     "execution_count": 56,
     "metadata": {},
     "output_type": "execute_result"
    }
   ],
   "source": [
    "list(le_estado_civil.classes_)"
   ]
  },
  {
   "cell_type": "code",
   "execution_count": 57,
   "metadata": {},
   "outputs": [
    {
     "data": {
      "text/plain": [
       "7739"
      ]
     },
     "execution_count": 57,
     "metadata": {},
     "output_type": "execute_result"
    }
   ],
   "source": [
    "# Foi encontrado 3 casos com estado civil igual a zero, iremos retirar \n",
    "# para melhor padronização dos dados\n",
    "df = df.loc[df['estado_civil'] != 0]\n",
    "len(df)"
   ]
  },
  {
   "cell_type": "code",
   "execution_count": 58,
   "metadata": {},
   "outputs": [
    {
     "data": {
      "text/plain": [
       "['DOUTORADO',\n",
       " 'ENSINO FUNDAMENTAL',\n",
       " 'ENSINO MEDIO',\n",
       " 'ESPECIALIZACAO',\n",
       " 'MBA',\n",
       " 'MESTRADO',\n",
       " 'NAO INFORMADO',\n",
       " 'NIVEL TECNICO',\n",
       " 'SUPERIOR',\n",
       " 'SUPERIOR INCOMPLETO']"
      ]
     },
     "execution_count": 58,
     "metadata": {},
     "output_type": "execute_result"
    }
   ],
   "source": [
    "list(le_escolaridade.classes_)"
   ]
  },
  {
   "cell_type": "code",
   "execution_count": 59,
   "metadata": {},
   "outputs": [
    {
     "data": {
      "text/plain": [
       "['AC',\n",
       " 'AL',\n",
       " 'AM',\n",
       " 'AP',\n",
       " 'BA',\n",
       " 'CE',\n",
       " 'DF',\n",
       " 'ES',\n",
       " 'GO',\n",
       " 'MA',\n",
       " 'MG',\n",
       " 'MS',\n",
       " 'MT',\n",
       " 'PA',\n",
       " 'PB',\n",
       " 'PE',\n",
       " 'PI',\n",
       " 'PR',\n",
       " 'RJ',\n",
       " 'RN',\n",
       " 'RO',\n",
       " 'RR',\n",
       " 'RS',\n",
       " 'SC',\n",
       " 'SE',\n",
       " 'SP',\n",
       " 'TO']"
      ]
     },
     "execution_count": 59,
     "metadata": {},
     "output_type": "execute_result"
    }
   ],
   "source": [
    "# necessário maior limpeza dos dados com os dados de municipio\n",
    "list(le_estado_nascimento.classes_)"
   ]
  },
  {
   "cell_type": "code",
   "execution_count": 60,
   "metadata": {},
   "outputs": [
    {
     "data": {
      "text/plain": [
       "['AM',\n",
       " 'BA',\n",
       " 'CE',\n",
       " 'ES',\n",
       " 'GO',\n",
       " 'MA',\n",
       " 'MG',\n",
       " 'MS',\n",
       " 'MT',\n",
       " 'PA',\n",
       " 'PB',\n",
       " 'PE',\n",
       " 'PI',\n",
       " 'RJ',\n",
       " 'RN',\n",
       " 'RO',\n",
       " 'RR',\n",
       " 'RS',\n",
       " 'SC',\n",
       " 'SE',\n",
       " 'TO']"
      ]
     },
     "execution_count": 60,
     "metadata": {},
     "output_type": "execute_result"
    }
   ],
   "source": [
    "list(le_estado_realizado_em.classes_)"
   ]
  },
  {
   "cell_type": "code",
   "execution_count": 61,
   "metadata": {},
   "outputs": [
    {
     "data": {
      "image/png": "[encoded data removed]",
      "text/plain": [
       "<Figure size 432x288 with 10 Axes>"
      ]
     },
     "metadata": {},
     "output_type": "display_data"
    }
   ],
   "source": [
    "# Histograma Univariado\n",
    "df.hist(layout = (2,5))\n",
    "plt.show()"
   ]
  },
  {
   "cell_type": "code",
   "execution_count": 62,
   "metadata": {},
   "outputs": [
    {
     "data": {
      "text/plain": [
       "escolaridade\n",
       "0       5\n",
       "1      28\n",
       "2    5119\n",
       "3     174\n",
       "4      12\n",
       "5      38\n",
       "6       4\n",
       "7     245\n",
       "8    1374\n",
       "9     740\n",
       "dtype: int64"
      ]
     },
     "execution_count": 62,
     "metadata": {},
     "output_type": "execute_result"
    }
   ],
   "source": [
    "# Percebemos que o maior número de escolaridade é do ensino médio\n",
    "df.groupby('escolaridade').size()\n",
    "\n",
    "# Estado civil solteiro, sexo masculino e horário da prova pela manhã, melhor \n",
    "# representam o dataset\n",
    "\n",
    "# Uma grande quantidade de pessoas zeraram a nota de redação"
   ]
  },
  {
   "cell_type": "code",
   "execution_count": 63,
   "metadata": {},
   "outputs": [
    {
     "data": {
      "text/plain": [
       "<matplotlib.axes._subplots.AxesSubplot at 0x7f130a82c3c8>"
      ]
     },
     "execution_count": 63,
     "metadata": {},
     "output_type": "execute_result"
    },
    {
     "data": {
      "image/png": "[encoded data removed]",
      "text/plain": [
       "<Figure size 432x288 with 1 Axes>"
      ]
     },
     "metadata": {},
     "output_type": "display_data"
    }
   ],
   "source": [
    "# Verificando a distribuição dos dados da nota objetiva verificando dois picos \n",
    "# mais constantes próximo a nota 3 e 6\n",
    "df.nota.plot(kind = 'density')"
   ]
  },
  {
   "cell_type": "code",
   "execution_count": 64,
   "metadata": {},
   "outputs": [
    {
     "data": {
      "image/png": "[encoded data removed]",
      "text/plain": [
       "<Figure size 432x288 with 10 Axes>"
      ]
     },
     "metadata": {},
     "output_type": "display_data"
    }
   ],
   "source": [
    "# Verificando o perfil das pessoas que tiraram nota de redação igual a zero, é \n",
    "# bem próxima ao perfil do \n",
    "# conjunto anterior sem filtros\n",
    "(df.loc[df['nota_redacao'] == 0]).hist(layout = (2,5))\n",
    "plt.show()"
   ]
  },
  {
   "cell_type": "code",
   "execution_count": 65,
   "metadata": {},
   "outputs": [
    {
     "data": {
      "text/html": [
       "<div>\n",
       "<style scoped>\n",
       "    .dataframe tbody tr th:only-of-type {\n",
       "        vertical-align: middle;\n",
       "    }\n",
       "\n",
       "    .dataframe tbody tr th {\n",
       "        vertical-align: top;\n",
       "    }\n",
       "\n",
       "    .dataframe thead th {\n",
       "        text-align: right;\n",
       "    }\n",
       "</style>\n",
       "<table border=\"1\" class=\"dataframe\">\n",
       "  <thead>\n",
       "    <tr style=\"text-align: right;\">\n",
       "      <th></th>\n",
       "      <th>nota</th>\n",
       "      <th>nota_redacao</th>\n",
       "      <th>horario_da_prova</th>\n",
       "      <th>sexo</th>\n",
       "      <th>estado_civil</th>\n",
       "      <th>escolaridade</th>\n",
       "      <th>estado_realizado_em</th>\n",
       "      <th>estado_nascimento</th>\n",
       "      <th>APROVADO</th>\n",
       "    </tr>\n",
       "  </thead>\n",
       "  <tbody>\n",
       "    <tr>\n",
       "      <th>nota</th>\n",
       "      <td>1.000000</td>\n",
       "      <td>0.918747</td>\n",
       "      <td>-0.004952</td>\n",
       "      <td>0.120185</td>\n",
       "      <td>-0.055558</td>\n",
       "      <td>0.197459</td>\n",
       "      <td>0.028927</td>\n",
       "      <td>0.022304</td>\n",
       "      <td>0.888233</td>\n",
       "    </tr>\n",
       "    <tr>\n",
       "      <th>nota_redacao</th>\n",
       "      <td>0.918747</td>\n",
       "      <td>1.000000</td>\n",
       "      <td>-0.000251</td>\n",
       "      <td>0.083271</td>\n",
       "      <td>-0.029570</td>\n",
       "      <td>0.189571</td>\n",
       "      <td>0.055684</td>\n",
       "      <td>0.038204</td>\n",
       "      <td>0.909978</td>\n",
       "    </tr>\n",
       "    <tr>\n",
       "      <th>horario_da_prova</th>\n",
       "      <td>-0.004952</td>\n",
       "      <td>-0.000251</td>\n",
       "      <td>1.000000</td>\n",
       "      <td>0.006802</td>\n",
       "      <td>0.011590</td>\n",
       "      <td>-0.003269</td>\n",
       "      <td>0.008190</td>\n",
       "      <td>0.003926</td>\n",
       "      <td>-0.008750</td>\n",
       "    </tr>\n",
       "    <tr>\n",
       "      <th>sexo</th>\n",
       "      <td>0.120185</td>\n",
       "      <td>0.083271</td>\n",
       "      <td>0.006802</td>\n",
       "      <td>1.000000</td>\n",
       "      <td>0.030617</td>\n",
       "      <td>-0.019166</td>\n",
       "      <td>0.003696</td>\n",
       "      <td>-0.000710</td>\n",
       "      <td>0.087909</td>\n",
       "    </tr>\n",
       "    <tr>\n",
       "      <th>estado_civil</th>\n",
       "      <td>-0.055558</td>\n",
       "      <td>-0.029570</td>\n",
       "      <td>0.011590</td>\n",
       "      <td>0.030617</td>\n",
       "      <td>1.000000</td>\n",
       "      <td>-0.044632</td>\n",
       "      <td>0.004535</td>\n",
       "      <td>-0.023091</td>\n",
       "      <td>-0.049215</td>\n",
       "    </tr>\n",
       "    <tr>\n",
       "      <th>escolaridade</th>\n",
       "      <td>0.197459</td>\n",
       "      <td>0.189571</td>\n",
       "      <td>-0.003269</td>\n",
       "      <td>-0.019166</td>\n",
       "      <td>-0.044632</td>\n",
       "      <td>1.000000</td>\n",
       "      <td>-0.034500</td>\n",
       "      <td>-0.013818</td>\n",
       "      <td>0.171118</td>\n",
       "    </tr>\n",
       "    <tr>\n",
       "      <th>estado_realizado_em</th>\n",
       "      <td>0.028927</td>\n",
       "      <td>0.055684</td>\n",
       "      <td>0.008190</td>\n",
       "      <td>0.003696</td>\n",
       "      <td>0.004535</td>\n",
       "      <td>-0.034500</td>\n",
       "      <td>1.000000</td>\n",
       "      <td>0.623823</td>\n",
       "      <td>0.023446</td>\n",
       "    </tr>\n",
       "    <tr>\n",
       "      <th>estado_nascimento</th>\n",
       "      <td>0.022304</td>\n",
       "      <td>0.038204</td>\n",
       "      <td>0.003926</td>\n",
       "      <td>-0.000710</td>\n",
       "      <td>-0.023091</td>\n",
       "      <td>-0.013818</td>\n",
       "      <td>0.623823</td>\n",
       "      <td>1.000000</td>\n",
       "      <td>0.020943</td>\n",
       "    </tr>\n",
       "    <tr>\n",
       "      <th>APROVADO</th>\n",
       "      <td>0.888233</td>\n",
       "      <td>0.909978</td>\n",
       "      <td>-0.008750</td>\n",
       "      <td>0.087909</td>\n",
       "      <td>-0.049215</td>\n",
       "      <td>0.171118</td>\n",
       "      <td>0.023446</td>\n",
       "      <td>0.020943</td>\n",
       "      <td>1.000000</td>\n",
       "    </tr>\n",
       "  </tbody>\n",
       "</table>\n",
       "</div>"
      ],
      "text/plain": [
       "                         nota  nota_redacao  horario_da_prova      sexo  \\\n",
       "nota                 1.000000      0.918747         -0.004952  0.120185   \n",
       "nota_redacao         0.918747      1.000000         -0.000251  0.083271   \n",
       "horario_da_prova    -0.004952     -0.000251          1.000000  0.006802   \n",
       "sexo                 0.120185      0.083271          0.006802  1.000000   \n",
       "estado_civil        -0.055558     -0.029570          0.011590  0.030617   \n",
       "escolaridade         0.197459      0.189571         -0.003269 -0.019166   \n",
       "estado_realizado_em  0.028927      0.055684          0.008190  0.003696   \n",
       "estado_nascimento    0.022304      0.038204          0.003926 -0.000710   \n",
       "APROVADO             0.888233      0.909978         -0.008750  0.087909   \n",
       "\n",
       "                     estado_civil  escolaridade  estado_realizado_em  \\\n",
       "nota                    -0.055558      0.197459             0.028927   \n",
       "nota_redacao            -0.029570      0.189571             0.055684   \n",
       "horario_da_prova         0.011590     -0.003269             0.008190   \n",
       "sexo                     0.030617     -0.019166             0.003696   \n",
       "estado_civil             1.000000     -0.044632             0.004535   \n",
       "escolaridade            -0.044632      1.000000            -0.034500   \n",
       "estado_realizado_em      0.004535     -0.034500             1.000000   \n",
       "estado_nascimento       -0.023091     -0.013818             0.623823   \n",
       "APROVADO                -0.049215      0.171118             0.023446   \n",
       "\n",
       "                     estado_nascimento  APROVADO  \n",
       "nota                          0.022304  0.888233  \n",
       "nota_redacao                  0.038204  0.909978  \n",
       "horario_da_prova              0.003926 -0.008750  \n",
       "sexo                         -0.000710  0.087909  \n",
       "estado_civil                 -0.023091 -0.049215  \n",
       "escolaridade                 -0.013818  0.171118  \n",
       "estado_realizado_em           0.623823  0.023446  \n",
       "estado_nascimento             1.000000  0.020943  \n",
       "APROVADO                      0.020943  1.000000  "
      ]
     },
     "execution_count": 65,
     "metadata": {},
     "output_type": "execute_result"
    }
   ],
   "source": [
    "# Matriz de correlação\n",
    "\n",
    "df.corr()"
   ]
  },
  {
   "cell_type": "code",
   "execution_count": 67,
   "metadata": {},
   "outputs": [
    {
     "data": {
      "image/png": "[encoded data removed]",
      "text/plain": [
       "<Figure size 432x288 with 2 Axes>"
      ]
     },
     "metadata": {},
     "output_type": "display_data"
    }
   ],
   "source": [
    "# Matriz de Correlação com nomes das variáveis\n",
    "correlations = df.corr()\n",
    "\n",
    "colunas = [\n",
    "    'nota',\n",
    "    'nota_redacao',\n",
    "    'horario_da_prova',\n",
    "    'sexo',\n",
    "    'estado_civil',\n",
    "    'escolaridade',\n",
    "    'estado_realizado_em',\n",
    "    'estado_nascimento',\n",
    "    'APROVADO'\n",
    "    ]\n",
    "fig = plt.figure()\n",
    "ax = fig.add_subplot(111)\n",
    "cax = ax.matshow(correlations, vmin = -1, vmax = 1)\n",
    "fig.colorbar(cax)\n",
    "ticks = np.arange(0, 9, 1)\n",
    "ax.set_xticks(ticks)\n",
    "ax.set_yticks(ticks)\n",
    "ax.set_xticklabels(colunas, rotation=60)\n",
    "ax.set_yticklabels(colunas)\n",
    "plt.show()"
   ]
  },
  {
   "cell_type": "markdown",
   "metadata": {},
   "source": [
    "#  \n",
    "#  "
   ]
  },
  {
   "cell_type": "markdown",
   "metadata": {},
   "source": [
    "<a id='model'></a>\n",
    "# Modelos estatísticos"
   ]
  },
  {
   "cell_type": "markdown",
   "metadata": {},
   "source": [
    "Será utilizado modelos estatísticos surpevisionados de classificação, levando em conta a nota objetiva do aluno, para posterior analise será adicionado a nota de redação."
   ]
  },
  {
   "cell_type": "markdown",
   "metadata": {},
   "source": [
    " "
   ]
  },
  {
   "cell_type": "markdown",
   "metadata": {},
   "source": [
    "## Naive Bayes"
   ]
  },
  {
   "cell_type": "markdown",
   "metadata": {},
   "source": [
    "Algoritmo Não-Linear.  \n",
    "\n",
    "Calcula a Probabilidade de cada classe e a probabilidade condicional de cada classe dado uma variável de entrada. As probabilidades são então estimadas para os novos dados e multiplicadas, assumindo que são independentes (suposição simples ou Naive)."
   ]
  },
  {
   "cell_type": "code",
   "execution_count": 68,
   "metadata": {},
   "outputs": [
    {
     "name": "stdout",
     "output_type": "stream",
     "text": [
      "Número de Atributos: 3\n",
      "Index(['horario_da_prova', 'sexo', 'estado_civil', 'escolaridade',\n",
      "       'estado_realizado_em', 'estado_nascimento'],\n",
      "      dtype='object')\n",
      "Atributos Selecionados: [False  True  True  True False False]\n",
      "Ranking dos Atributos: [2 1 1 1 3 4]\n"
     ]
    }
   ],
   "source": [
    "# Eliminação Recursiva de Variáveis\n",
    "\n",
    "# Import dos módulos\n",
    "\n",
    "from pandas import read_csv\n",
    "from sklearn.feature_selection import RFE\n",
    "from sklearn.linear_model import LogisticRegression\n",
    "\n",
    "# Carregando os dados\n",
    "\n",
    "colunas = [\n",
    "    'horario_da_prova',\n",
    "    'sexo',\n",
    "    'estado_civil',\n",
    "    'escolaridade',\n",
    "    'estado_realizado_em',    \n",
    "    'estado_nascimento',\n",
    "    'APROVADO'\n",
    "]\n",
    "df_model = pd.DataFrame(df, columns=colunas)\n",
    "\n",
    "\n",
    "array = df_model.values\n",
    "\n",
    "# Separando o array em componentes de input e output\n",
    "\n",
    "X = array[:,0:(len(colunas)-1)]\n",
    "Y = array[:,(len(colunas)-1)]\n",
    "\n",
    "# Criação do modelo\n",
    "\n",
    "modelo = LogisticRegression()\n",
    "\n",
    "# RFE\n",
    "\n",
    "rfe = RFE(modelo, 3)\n",
    "fit = rfe.fit(X, Y)\n",
    "\n",
    "# Print dos resultados\n",
    "\n",
    "print(\"Número de Atributos: %d\" % fit.n_features_)\n",
    "print(df_model.columns[0:(len(colunas)-1)])\n",
    "print(\"Atributos Selecionados: %s\" % fit.support_)\n",
    "print(\"Ranking dos Atributos: %s\" % fit.ranking_)"
   ]
  },
  {
   "cell_type": "markdown",
   "metadata": {},
   "source": [
    "Sexo, Estado Civil e Escolaridade são as variáveis que melhor representam o modelo"
   ]
  },
  {
   "cell_type": "code",
   "execution_count": 70,
   "metadata": {},
   "outputs": [
    {
     "name": "stdout",
     "output_type": "stream",
     "text": [
      "0.5955537504470986\n"
     ]
    }
   ],
   "source": [
    "from sklearn import model_selection\n",
    "from sklearn.naive_bayes import GaussianNB\n",
    "\n",
    "# Vamos inicialmente selecionar algumas colunas como variaveis preditoras\n",
    "# APROVADO como variavel target\n",
    "colunas = [\n",
    "    'sexo',\n",
    "    'estado_civil',\n",
    "    'escolaridade',\n",
    "    'APROVADO'\n",
    "]\n",
    "df_model = pd.DataFrame(df, columns=colunas)\n",
    "\n",
    "array = df_model.values\n",
    "\n",
    "# Separando o array em componentes de input e output\n",
    "X = array[:,0:(len(colunas)-1)]\n",
    "Y = array[:,(len(colunas)-1)]\n",
    "\n",
    "# Definindo os valores para o número de folds\n",
    "num_folds = 10\n",
    "num_instances = len(X)\n",
    "\n",
    "# Separando os dados em folds\n",
    "kfold = model_selection.KFold(num_folds, True)\n",
    "\n",
    "# Criando o modelo\n",
    "modelo = GaussianNB()\n",
    "resultado = model_selection.cross_val_score(modelo, X, Y, cv = kfold)\n",
    "\n",
    "# Print do resultado\n",
    "print(resultado.mean())"
   ]
  },
  {
   "cell_type": "markdown",
   "metadata": {},
   "source": [
    " "
   ]
  }
 ],
 "metadata": {
  "kernelspec": {
   "display_name": "Python 3",
   "language": "python",
   "name": "python3"
  },
  "language_info": {
   "codemirror_mode": {
    "name": "ipython",
    "version": 3
   },
   "file_extension": ".py",
   "mimetype": "text/x-python",
   "name": "python",
   "nbconvert_exporter": "python",
   "pygments_lexer": "ipython3",
   "version": "3.6.5"
  }
 },
 "nbformat": 4,
 "nbformat_minor": 2
}
